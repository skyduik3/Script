{
 "cells": [
  {
   "cell_type": "markdown",
   "metadata": {},
   "source": [
    "# Assignment4"
   ]
  },
  {
   "cell_type": "markdown",
   "metadata": {},
   "source": [
    "#### 과목 : 스크립트 프로그래밍"
   ]
  },
  {
   "cell_type": "markdown",
   "metadata": {},
   "source": [
    "#### 담당교수 : 한연희 교수님"
   ]
  },
  {
   "cell_type": "markdown",
   "metadata": {},
   "source": [
    "#### 학번 : 2010136102"
   ]
  },
  {
   "cell_type": "markdown",
   "metadata": {},
   "source": [
    "#### 이름 : 이정민"
   ]
  },
  {
   "cell_type": "markdown",
   "metadata": {
    "collapsed": true
   },
   "source": [
    "# 1\n",
    " - 파일 s.txt 내의 다음 내용과 함께 아래 문제의 코드를 제시하시오."
   ]
  },
  {
   "cell_type": "code",
   "execution_count": 7,
   "metadata": {},
   "outputs": [],
   "source": [
    "s = []\n",
    "with open('s.txt','r') as f:   #읽기 모드로 s.txt 불러오기\n",
    "    for line in f.xreadlines():#한 줄씩 읽기\n",
    "        s.append(line)         #한 줄씩 리스트 s 에 저장"
   ]
  },
  {
   "cell_type": "code",
   "execution_count": 8,
   "metadata": {},
   "outputs": [],
   "source": [
    "with open('s1.txt','w') as f:  #쓰기 모드로 s1.txt 만들기\n",
    "    for line in sorted(s):     #알파벳 순으로 정렬한 리스트 s를 한줄씩 읽어온다.\n",
    "        f.write(line)          #한 줄씩 파일에 쓰기"
   ]
  },
  {
   "cell_type": "code",
   "execution_count": 9,
   "metadata": {},
   "outputs": [],
   "source": [
    "def mycmp(a1,a2):              #리스트의 1번 원소로 정렬하는 함수 선언\n",
    "    return cmp(a1[1],a2[1]) \n",
    "s1 = [line.split() for line in s ]#두 단어를 리스트로 바꿔서 저장\n",
    "s1.sort(cmp = mycmp)#1번 원소를 기준으로 정렬\n",
    "with open('s2.txt','w') as f:\n",
    "    for ele in s1:\n",
    "        f.write(' '.join(ele)+'\\n')#리스트형으로 저장된 원소를 문자열로 합쳐서 파일에 쓴다."
   ]
  },
  {
   "cell_type": "code",
   "execution_count": 10,
   "metadata": {},
   "outputs": [],
   "source": [
    "string = ''\n",
    "with open('s.txt','r') as f:\n",
    "    for line in f.xreadlines():\n",
    "        string +=line #파일의 내용을 한 문장에 저장한다.\n",
    "lst = string.split() #단어별나누어서 리스트로 만든다.\n",
    "a = []\n",
    "while lst != []:\n",
    "        a.append(lst[:3])#앞에서 부터 3개를 다른 리스트a에 저장한다.\n",
    "        del lst[0:3]#저장된 3개의 원소는 삭제한다.\n",
    "with open('s3.txt','w') as f:\n",
    "    for ele in a:\n",
    "        f.write(' '.join(ele)+'\\n')#3개의 단어를 한 원소에 가지는 a를 각각 문자열로 합쳐서 파일에 쓴다."
   ]
  },
  {
   "cell_type": "markdown",
   "metadata": {},
   "source": [
    "# 2\n",
    " - 다음과 같은 조건들을 참고하여 회원 가입 및 로그인 프로그램을 작성하시오."
   ]
  },
  {
   "cell_type": "code",
   "execution_count": 8,
   "metadata": {
    "collapsed": true
   },
   "outputs": [
    {
     "name": "stderr",
     "output_type": "stream",
     "text": [
      "C:\\Users\\juni0_000\\AppData\\Local\\Enthought\\Canopy\\User\\lib\\site-packages\\ipykernel\\__main__.py:1: DeprecationWarning: the sha module is deprecated; use the hashlib module instead\n",
      "  if __name__ == '__main__':\n"
     ]
    },
    {
     "name": "stdout",
     "output_type": "stream",
     "text": [
      "Welcome to Our Service\n",
      " 1. Sigh Up\n",
      " 2. Sigh In\n",
      " 3. Quit\n",
      "2\n",
      "Enter ID :sungjun23\n",
      "Enter Password :tjdwns32\n",
      "Hello[sungjun23]!\n",
      "Welcome to Our Service\n",
      " 1. Sigh Up\n",
      " 2. Sigh In\n",
      " 3. Quit\n",
      "2\n",
      "Enter ID :sungjun2\n",
      "Enter Password :tjdwns32\n",
      "Sorry, you are not a registered member\n",
      "Enter ID :sungjun23\n",
      "Enter Password :tjdwns2\n",
      "Sorry, the entered password is not correct.\n",
      "Enter Password :tjdwns32\n",
      "Hello[sungjun23]!\n",
      "Welcome to Our Service\n",
      " 1. Sigh Up\n",
      " 2. Sigh In\n",
      " 3. Quit\n",
      "3\n"
     ]
    }
   ],
   "source": [
    "import sha\n",
    "\n",
    "def display():#사용자 화면 출력 함수\n",
    "    print 'Welcome to Our Service'\n",
    "    print ' 1. Sigh Up'\n",
    "    print ' 2. Sigh In'\n",
    "    print ' 3. Quit'\n",
    "\n",
    "display()\n",
    "i = input()\n",
    "while i != 3:#입력값이 3이면 종료\n",
    "    f = open('access.txt','a+')\n",
    "    if i == 1:#Sign Up\n",
    "        l = ['','','','']#아이디, 비번, 이름, 학교를 저장하는 리스트를 생성한다.\n",
    "        l[0] = '['+raw_input(\"Enter ID :\")+']'\n",
    "        f.seek(0)#파일의 처음부터 입력된 아이디와 일치하는 아이디가 없는지 확인한다.\n",
    "        for x in f.xreadlines():\n",
    "            a = x.find('[') ;b = x.find(']')\n",
    "            if  l[0] == x[a:b+1]:\n",
    "                f.seek(0)#기존에 아이디가 있던경우 새로입력받은 아이디또한 기존에 있는지 처음부터 검사하기위해 포인터를 파일 처음으로 돌린다.\n",
    "                print 'Sorry, the entered ID is already used'\n",
    "                l[0] = '['+raw_input(\"Enter ID :\")+']'           \n",
    "        l[1] = raw_input(\"Enter Password :\")\n",
    "        l[1] = '['+sha.new(l[1]).hexdigest()+']'\n",
    "        l[2] = '['+raw_input(\"Enter Name : \")+']'\n",
    "        l[3] = '['+raw_input(\"Enter School : \")+']'\n",
    "        f.write(l[0]+': '+l[1]+', '+l[2]+', '+l[3]+'\\n')# 입력받은 값을 파일에 저장한다.\n",
    "    if i == 2:#Sign In\n",
    "        ID = '['+raw_input(\"Enter ID :\")+']'#저장 형식을 맞추기 위해\n",
    "        Password = raw_input(\"Enter Password :\")\n",
    "        Password_sec= '['+sha.new(Password).hexdigest()+']'\n",
    "        count1 = 0\n",
    "        sum_ = 0\n",
    "        for x in f.xreadlines():\n",
    "            sum_ += len(x)+1#파일의 끝인지 알기위해서 삽입, +1 은 '\\n'도 세기위해서\n",
    "            a = x.find('[')  ;b = x.find(']')#ID 필드 가져오기\n",
    "            c = x.find('[',b);d = x.find(']',c)#password 필드 가져오기\n",
    "            if ID == x[a:b+1]:#ID 비교\n",
    "                count = 0\n",
    "                while Password_sec != x[c:d+1]:\n",
    "                    count+=1\n",
    "                    if count == 3 :#3번이상 비밀번호가 틀리면 더이상 입력받지 않음\n",
    "                        print 'Sign In Failed'\n",
    "                        break\n",
    "                    print 'Sorry, the entered password is not correct.'\n",
    "                    Password = raw_input(\"Enter Password :\")#비밀번호가 틀릴경우 재입력 받는다.\n",
    "                    Password_sec = '['+sha.new(Password).hexdigest()+']'                    \n",
    "                if Password_sec == x[c:d+1]: \n",
    "                    print 'Hello' +ID+'!'\n",
    "                    break\n",
    "            elif sum_ == f.tell() :#파일의 끝까지 갔는데도 일치하는 아이디가 없으면, 다시입력 받고 처음부터 다시 탐색한다. \n",
    "                sum_ = 0#다시 초기화\n",
    "                count1+=1\n",
    "                if count1 ==3:\n",
    "                    print 'Sign In Failed'\n",
    "                    break\n",
    "                f.seek(0)#파일의 처음부터 다시 탐색\n",
    "                print 'Sorry, you are not a registered member'\n",
    "                ID = '['+raw_input(\"Enter ID :\")+']'\n",
    "                Password = raw_input(\"Enter Password :\")\n",
    "                Password_sec = '['+sha.new(Password).hexdigest()+']'                    \n",
    "    f.close()#한 작업 끝날때 마다 파일을 닫아준다.\n",
    "    display()\n",
    "    i = input()"
   ]
  },
  {
   "cell_type": "markdown",
   "metadata": {},
   "source": [
    "# 3\n",
    " - range() 함수와 유사한 frange() 함수를 다음 조건을 참고하여 만드시오"
   ]
  },
  {
   "cell_type": "code",
   "execution_count": 2,
   "metadata": {},
   "outputs": [
    {
     "name": "stdout",
     "output_type": "stream",
     "text": [
      "[2.2, 2.7, 3.2, 3.7]\n"
     ]
    }
   ],
   "source": [
    "def frange(stop,start = 0.0,step = 0.1):\n",
    "    if start != 0: #인자를 2 개 이상 받으면 start자리에는 0보다 큰 수가 들어간다(감소하지 않으므로)\n",
    "                   #따라서 이럴 경우에는 stop과 start를 바꿔주어야한다.\n",
    "        stop,start = start,stop\n",
    "    if start <0 or stop <=start or step <= 0.0:#음수 인수는 받지않고, stop은 start보다 커야 한다.\n",
    "        return []\n",
    "    l = []\n",
    "    while start < stop:\n",
    "        l.append(start)\n",
    "        start = round(start+step,2)#값을 정확히하기위해 round사용\n",
    "    return l\n",
    "\n",
    "print frange(2.2,4.0,0.5)"
   ]
  },
  {
   "cell_type": "markdown",
   "metadata": {
    "collapsed": true
   },
   "source": [
    "# 4 \n",
    " - 가변인수를 받는 함수 sum()을 다음과 같은 조건을 참고하여 구현하시오 "
   ]
  },
  {
   "cell_type": "code",
   "execution_count": 16,
   "metadata": {},
   "outputs": [
    {
     "name": "stdout",
     "output_type": "stream",
     "text": [
      "5\n"
     ]
    }
   ],
   "source": [
    "def sum(a = 0,*args):#a는 수, args는 튜플형으로 저장되므로 type이 다르다. 따라서 튜플에서 요소를 하나하나 꺼내와서 더한다.\n",
    "    for i in args:\n",
    "        a += i\n",
    "    return a\n",
    "\n",
    "print sum(1,5,7,2,-10)"
   ]
  },
  {
   "cell_type": "markdown",
   "metadata": {},
   "source": [
    "# 5\n",
    " - 여러 단어로 이루어진 문자열을 입력받아 각 단어의 첫글자로 이루어진 단어를 대문자로 출력하는 myinitial() 함수를 다음 조건을 참고하여 작성하시오."
   ]
  },
  {
   "cell_type": "code",
   "execution_count": 22,
   "metadata": {},
   "outputs": [
    {
     "name": "stdout",
     "output_type": "stream",
     "text": [
      "ASAP\n"
     ]
    }
   ],
   "source": [
    "def myinitial(string):\n",
    "    s= string.split()\n",
    "    m = map(lambda x:x[0].upper(),s)#s의 요소 하나하나를 lambda함수에 매칭해서 값을 리스트로 저장하는 map함수를 사용\n",
    "    return ''.join(m)\n",
    "\n",
    "string = 'as soon as possible'\n",
    "print myinitial(string)"
   ]
  },
  {
   "cell_type": "markdown",
   "metadata": {},
   "source": [
    "# 6\n",
    " - 음이 아닌 정수 n를 입력받으면 n! (factorial)을 계산하는 myfact() 함수를 재귀적 함수로 구현하시오.\n",
    "\n",
    "[옵션] 참을 수 있는 정도 만큼의 수행시간을 직접 기다려보면서 n을 늘려보도록 합시다. "
   ]
  },
  {
   "cell_type": "code",
   "execution_count": 1,
   "metadata": {},
   "outputs": [
    {
     "name": "stdout",
     "output_type": "stream",
     "text": [
      "12710\n"
     ]
    }
   ],
   "source": [
    "import sys\n",
    "sys.setrecursionlimit(100000)# 최대값의 범위를 넓히기 위해 재귀함수로 최대 10만자리까지 구할 수 있도록했지만\n",
    "def myfact(n):               # 시간관계없이 4010언저리의 수를 넘기면 프로그램이 죽음\n",
    "    if n==1 :\n",
    "        return 1\n",
    "    n = n*myfact(n-1)\n",
    "    return n\n",
    "\n",
    "print len(str(myfact(4010)))\n",
    "#print myfact(4010)"
   ]
  },
  {
   "cell_type": "markdown",
   "metadata": {},
   "source": [
    "# 7\n",
    " - (서술형) import string 과 from string import * 의 차이점을 설명하시오."
   ]
  },
  {
   "cell_type": "markdown",
   "metadata": {},
   "source": [
    "- 공통점 \n",
    "  - string 모듈을 해당 이름 공간에 불러와서 string에 정의된 함수와 데이터를 사용할 수 있다.\n",
    "- 차이점\n",
    "  - import string : 별도의 이름공간을 가져서 동일한 이름의 여러 함수나 변수들이 각 모듈마다 독립적으로 사용 될 수 있다. <br>하지만 변수나 함수 이용시마다 앞에 string.을 붙여줘야 하는 번거로움이 있다.\n",
    "  - from string import * : string 모듈에 존재하는 '__'로 시작하는 이름들을 제외한 모든 이름들을 현재 이름 공간으로 불러들인다. <br>즉, 별도의 이름공간을 가지는게 아니므로, 같은 이름 공간에 있던 기존의 이름이 같은 변수나 함수에 영향을 끼친다. <br>대신 변수나 함수를 이용할 때 앞에 string을 붙여줘야 하는 번거로움을 제거할 수 있다.\n",
    "  "
   ]
  },
  {
   "cell_type": "markdown",
   "metadata": {},
   "source": [
    " - 유명한 만화 캐릭터 도라에몽(도움이 필요한 상황에 적절한 도구를 빌려주는 괴물)을 예로 들자면, 전자는 우리가 필요한 물건을 도라에몽에게 이름표가 적힌 물건을 빌려온다면, 후자는 도라에몽이 필요한거 갖다쓰라고 이름표도 안적고 물건을 방에 다 꺼내놓아서 쓰기엔 편하지만, 이름표가 없기 때문에 내 물건이랑 헷갈릴수 있는 단점이 있다. "
   ]
  },
  {
   "cell_type": "code",
   "execution_count": 4,
   "metadata": {
    "scrolled": true
   },
   "outputs": [
    {
     "name": "stdout",
     "output_type": "stream",
     "text": [
      "!\"#$%&'()*+,-./:;<=>?@[\\]^_`{|}~\n"
     ]
    }
   ],
   "source": [
    "import string\n",
    "\n",
    "print string.punctuation"
   ]
  },
  {
   "cell_type": "code",
   "execution_count": 5,
   "metadata": {},
   "outputs": [
    {
     "name": "stdout",
     "output_type": "stream",
     "text": [
      "!\"#$%&'()*+,-./:;<=>?@[\\]^_`{|}~\n"
     ]
    }
   ],
   "source": [
    "from string import *\n",
    "\n",
    "print punctuation"
   ]
  },
  {
   "cell_type": "markdown",
   "metadata": {},
   "source": [
    "#### 느낀점 : 사실 이번과제에서 가장 핵심적인 것은 8번문제인데 주어진 시간에도 완성하지 못한정도라 본인에게는 너무 어려운 난이도의 과제가 아니었나라는 생각이 들 정도입니다. 다음 과제가 있기 전에라도 완성해서 올려둘 수 있다면 올릴수 있도록 하겠습니다."
   ]
  }
 ],
 "metadata": {
  "kernelspec": {
   "display_name": "Python 3",
   "language": "python",
   "name": "python3"
  },
  "language_info": {
   "codemirror_mode": {
    "name": "ipython",
    "version": 3
   },
   "file_extension": ".py",
   "mimetype": "text/x-python",
   "name": "python",
   "nbconvert_exporter": "python",
   "pygments_lexer": "ipython3",
   "version": "3.6.1"
  }
 },
 "nbformat": 4,
 "nbformat_minor": 1
}
